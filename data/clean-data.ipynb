{
 "cells": [
  {
   "cell_type": "markdown",
   "metadata": {},
   "source": [
    "## Notes\n",
    "run on AutoDL and ~~cost 5￥~~  \n",
    "6407814 rows -> 6217713 may not work well, increase the number of hash functions would be better(**cost money, still not friendly at all**)"
   ]
  },
  {
   "cell_type": "code",
   "execution_count": 1,
   "metadata": {},
   "outputs": [],
   "source": [
    "import os\n",
    "os.environ['HF_ENDPOINT'] = 'https://hf-mirror.com'"
   ]
  },
  {
   "cell_type": "code",
   "execution_count": 2,
   "metadata": {},
   "outputs": [
    {
     "name": "stdout",
     "output_type": "stream",
     "text": [
      "Looking in indexes: http://mirrors.aliyun.com/pypi/simple\n",
      "Requirement already satisfied: datasketch in ./miniconda3/lib/python3.12/site-packages (1.6.5)\n",
      "Requirement already satisfied: datasets in ./miniconda3/lib/python3.12/site-packages (3.3.2)\n",
      "Requirement already satisfied: numpy in ./miniconda3/lib/python3.12/site-packages (1.26.4)\n",
      "Requirement already satisfied: scipy>=1.0.0 in ./miniconda3/lib/python3.12/site-packages (from datasketch) (1.15.2)\n",
      "Requirement already satisfied: filelock in ./miniconda3/lib/python3.12/site-packages (from datasets) (3.14.0)\n",
      "Requirement already satisfied: pyarrow>=15.0.0 in ./miniconda3/lib/python3.12/site-packages (from datasets) (19.0.1)\n",
      "Requirement already satisfied: dill<0.3.9,>=0.3.0 in ./miniconda3/lib/python3.12/site-packages (from datasets) (0.3.8)\n",
      "Requirement already satisfied: pandas in ./miniconda3/lib/python3.12/site-packages (from datasets) (2.2.3)\n",
      "Requirement already satisfied: requests>=2.32.2 in ./miniconda3/lib/python3.12/site-packages (from datasets) (2.32.3)\n",
      "Requirement already satisfied: tqdm>=4.66.3 in ./miniconda3/lib/python3.12/site-packages (from datasets) (4.67.1)\n",
      "Requirement already satisfied: xxhash in ./miniconda3/lib/python3.12/site-packages (from datasets) (3.5.0)\n",
      "Requirement already satisfied: multiprocess<0.70.17 in ./miniconda3/lib/python3.12/site-packages (from datasets) (0.70.16)\n",
      "Requirement already satisfied: fsspec<=2024.12.0,>=2023.1.0 in ./miniconda3/lib/python3.12/site-packages (from fsspec[http]<=2024.12.0,>=2023.1.0->datasets) (2024.5.0)\n",
      "Requirement already satisfied: aiohttp in ./miniconda3/lib/python3.12/site-packages (from datasets) (3.11.12)\n",
      "Requirement already satisfied: huggingface-hub>=0.24.0 in ./miniconda3/lib/python3.12/site-packages (from datasets) (0.29.1)\n",
      "Requirement already satisfied: packaging in ./miniconda3/lib/python3.12/site-packages (from datasets) (23.2)\n",
      "Requirement already satisfied: pyyaml>=5.1 in ./miniconda3/lib/python3.12/site-packages (from datasets) (6.0.1)\n",
      "Requirement already satisfied: aiohappyeyeballs>=2.3.0 in ./miniconda3/lib/python3.12/site-packages (from aiohttp->datasets) (2.4.6)\n",
      "Requirement already satisfied: aiosignal>=1.1.2 in ./miniconda3/lib/python3.12/site-packages (from aiohttp->datasets) (1.3.2)\n",
      "Requirement already satisfied: attrs>=17.3.0 in ./miniconda3/lib/python3.12/site-packages (from aiohttp->datasets) (23.2.0)\n",
      "Requirement already satisfied: frozenlist>=1.1.1 in ./miniconda3/lib/python3.12/site-packages (from aiohttp->datasets) (1.5.0)\n",
      "Requirement already satisfied: multidict<7.0,>=4.5 in ./miniconda3/lib/python3.12/site-packages (from aiohttp->datasets) (6.1.0)\n",
      "Requirement already satisfied: propcache>=0.2.0 in ./miniconda3/lib/python3.12/site-packages (from aiohttp->datasets) (0.3.0)\n",
      "Requirement already satisfied: yarl<2.0,>=1.17.0 in ./miniconda3/lib/python3.12/site-packages (from aiohttp->datasets) (1.18.3)\n",
      "Requirement already satisfied: typing-extensions>=3.7.4.3 in ./miniconda3/lib/python3.12/site-packages (from huggingface-hub>=0.24.0->datasets) (4.12.1)\n",
      "Requirement already satisfied: charset-normalizer<4,>=2 in ./miniconda3/lib/python3.12/site-packages (from requests>=2.32.2->datasets) (2.0.4)\n",
      "Requirement already satisfied: idna<4,>=2.5 in ./miniconda3/lib/python3.12/site-packages (from requests>=2.32.2->datasets) (3.7)\n",
      "Requirement already satisfied: urllib3<3,>=1.21.1 in ./miniconda3/lib/python3.12/site-packages (from requests>=2.32.2->datasets) (2.1.0)\n",
      "Requirement already satisfied: certifi>=2017.4.17 in ./miniconda3/lib/python3.12/site-packages (from requests>=2.32.2->datasets) (2024.2.2)\n",
      "Requirement already satisfied: python-dateutil>=2.8.2 in ./miniconda3/lib/python3.12/site-packages (from pandas->datasets) (2.9.0.post0)\n",
      "Requirement already satisfied: pytz>=2020.1 in ./miniconda3/lib/python3.12/site-packages (from pandas->datasets) (2025.1)\n",
      "Requirement already satisfied: tzdata>=2022.7 in ./miniconda3/lib/python3.12/site-packages (from pandas->datasets) (2025.1)\n",
      "Requirement already satisfied: six>=1.5 in ./miniconda3/lib/python3.12/site-packages (from python-dateutil>=2.8.2->pandas->datasets) (1.16.0)\n",
      "\u001b[33mWARNING: Running pip as the 'root' user can result in broken permissions and conflicting behaviour with the system package manager. It is recommended to use a virtual environment instead: https://pip.pypa.io/warnings/venv\u001b[0m\u001b[33m\n",
      "\u001b[0mNote: you may need to restart the kernel to use updated packages.\n"
     ]
    }
   ],
   "source": [
    "%pip install datasketch datasets numpy"
   ]
  },
  {
   "cell_type": "code",
   "execution_count": 3,
   "metadata": {},
   "outputs": [],
   "source": [
    "from datasketch import MinHash, MinHashLSH\n",
    "from datasets import load_dataset\n",
    "import multiprocessing as mp"
   ]
  },
  {
   "cell_type": "code",
   "execution_count": 4,
   "metadata": {},
   "outputs": [],
   "source": [
    "def generate_minhash(text, num_perm=128, shingle_size=5):\n",
    "    \"\"\"Convert text into MinHash signatures.\"\"\"\n",
    "    words = text.split()\n",
    "    shingles = [' '.join(words[i:i+shingle_size]) for i in range(len(words) - shingle_size+1)]\n",
    "    \n",
    "    m = MinHash(num_perm=num_perm)\n",
    "    for shingle in shingles:\n",
    "        m.update(shingle.encode('utf-8'))\n",
    "        # print(m.hashvalues)\n",
    "    return m\n"
   ]
  },
  {
   "cell_type": "code",
   "execution_count": 5,
   "metadata": {},
   "outputs": [],
   "source": [
    "text = \"MinHash is a probabilistic data structure for estimating the similarity between two sets\"\n",
    "m = generate_minhash(text)"
   ]
  },
  {
   "cell_type": "code",
   "execution_count": 6,
   "metadata": {},
   "outputs": [
    {
     "name": "stdout",
     "output_type": "stream",
     "text": [
      "[ 612235861  192327059  147964883  223055504  104209738 1129144193\n",
      "  284332693   24690173   65806521  233646945   48587760  664516740\n",
      "   28825055  540531418  863351973  615256688   24234753  657192190\n",
      "  160120759  820845863   99250089   82084215  449408418 1171587119\n",
      "    6884552   62973394  226085126  522860602  157789503  193133320\n",
      "  860302586  181011265  272258135  140121318  622209611   13054787\n",
      "  459981403  138987301  388318496  326486631  169739271  353530973\n",
      "  166401934  308487578   41204927 1544153373   42241145  118952763\n",
      "  491603424  129999361   66131319  898696400  180710159  319575134\n",
      "  413854359 2131796046  541994558  110402077   25094191 1420243918\n",
      " 1315884355 1186675484  136031921  816196204   24629162   65362784\n",
      "   18392430  125275344   76404347  425186808  413133819  457487180\n",
      "  191604118   74465626  394977475   94707231   11900557  201024750\n",
      "  341640073   48495091  787457558  732365634  198778065  948502136\n",
      " 1210455324  677266876  143631106  366184316  661747981  222492606\n",
      "  634504623  243932430  797754382   23206482   18905484  298258753\n",
      "  133142298  354728032  365892121  407649931  260253865  798199537\n",
      "  673778833   31611605  893852896  428768092 1000262228  186894665\n",
      "  757447465  508774359  199933639   58013719  140087904  260143384\n",
      "  497692152   57170985  396781916 1081488697  231059711  211402840\n",
      "  681211072  682498079  259000919  634699550  109888515   18352224\n",
      "  139796847 1105014107]\n"
     ]
    }
   ],
   "source": [
    "print(m.hashvalues)"
   ]
  },
  {
   "cell_type": "code",
   "execution_count": 7,
   "metadata": {},
   "outputs": [
    {
     "data": {
      "application/vnd.jupyter.widget-view+json": {
       "model_id": "45aefad78cb24aa88bffa64e8bf0fa65",
       "version_major": 2,
       "version_minor": 0
      },
      "text/plain": [
       "README.md: 0.00B [00:00, ?B/s]"
      ]
     },
     "metadata": {},
     "output_type": "display_data"
    },
    {
     "data": {
      "application/vnd.jupyter.widget-view+json": {
       "model_id": "254b96ca7f954124885a842c7daade81",
       "version_major": 2,
       "version_minor": 0
      },
      "text/plain": [
       "Resolving data files:   0%|          | 0/41 [00:00<?, ?it/s]"
      ]
     },
     "metadata": {},
     "output_type": "display_data"
    },
    {
     "data": {
      "application/vnd.jupyter.widget-view+json": {
       "model_id": "d8919af9d27e4af59d560885be152845",
       "version_major": 2,
       "version_minor": 0
      },
      "text/plain": [
       "Downloading data:   0%|          | 0/41 [00:00<?, ?files/s]"
      ]
     },
     "metadata": {},
     "output_type": "display_data"
    },
    {
     "data": {
      "application/vnd.jupyter.widget-view+json": {
       "model_id": "e052cb367ddb4a3193596748fab86426",
       "version_major": 2,
       "version_minor": 0
      },
      "text/plain": [
       "train-00000-of-00041.parquet:   0%|          | 0.00/420M [00:00<?, ?B/s]"
      ]
     },
     "metadata": {},
     "output_type": "display_data"
    },
    {
     "data": {
      "application/vnd.jupyter.widget-view+json": {
       "model_id": "84a57982210041b1afd1444e1707b710",
       "version_major": 2,
       "version_minor": 0
      },
      "text/plain": [
       "train-00001-of-00041.parquet:   0%|          | 0.00/351M [00:00<?, ?B/s]"
      ]
     },
     "metadata": {},
     "output_type": "display_data"
    },
    {
     "data": {
      "application/vnd.jupyter.widget-view+json": {
       "model_id": "0eb233a46ea14cfeafdc2962dafc6780",
       "version_major": 2,
       "version_minor": 0
      },
      "text/plain": [
       "train-00002-of-00041.parquet:   0%|          | 0.00/329M [00:00<?, ?B/s]"
      ]
     },
     "metadata": {},
     "output_type": "display_data"
    },
    {
     "data": {
      "application/vnd.jupyter.widget-view+json": {
       "model_id": "7af67f82b754423bb40bca86e48d44e9",
       "version_major": 2,
       "version_minor": 0
      },
      "text/plain": [
       "train-00003-of-00041.parquet:   0%|          | 0.00/331M [00:00<?, ?B/s]"
      ]
     },
     "metadata": {},
     "output_type": "display_data"
    },
    {
     "data": {
      "application/vnd.jupyter.widget-view+json": {
       "model_id": "f4d7ed008da2497bbf5768d89cf6864e",
       "version_major": 2,
       "version_minor": 0
      },
      "text/plain": [
       "train-00004-of-00041.parquet:   0%|          | 0.00/307M [00:00<?, ?B/s]"
      ]
     },
     "metadata": {},
     "output_type": "display_data"
    },
    {
     "data": {
      "application/vnd.jupyter.widget-view+json": {
       "model_id": "593c18e62e5f470e81fcd19dbcc1f6ef",
       "version_major": 2,
       "version_minor": 0
      },
      "text/plain": [
       "train-00005-of-00041.parquet:   0%|          | 0.00/244M [00:00<?, ?B/s]"
      ]
     },
     "metadata": {},
     "output_type": "display_data"
    },
    {
     "data": {
      "application/vnd.jupyter.widget-view+json": {
       "model_id": "3825e40e20d247319d66ea8b6ebe8172",
       "version_major": 2,
       "version_minor": 0
      },
      "text/plain": [
       "train-00006-of-00041.parquet:   0%|          | 0.00/266M [00:00<?, ?B/s]"
      ]
     },
     "metadata": {},
     "output_type": "display_data"
    },
    {
     "data": {
      "application/vnd.jupyter.widget-view+json": {
       "model_id": "9af15fe8ecf94d329f29173a8e85ab99",
       "version_major": 2,
       "version_minor": 0
      },
      "text/plain": [
       "train-00007-of-00041.parquet:   0%|          | 0.00/228M [00:00<?, ?B/s]"
      ]
     },
     "metadata": {},
     "output_type": "display_data"
    },
    {
     "data": {
      "application/vnd.jupyter.widget-view+json": {
       "model_id": "5e42b128d48542378bba33196800a2c9",
       "version_major": 2,
       "version_minor": 0
      },
      "text/plain": [
       "train-00008-of-00041.parquet:   0%|          | 0.00/248M [00:00<?, ?B/s]"
      ]
     },
     "metadata": {},
     "output_type": "display_data"
    },
    {
     "data": {
      "application/vnd.jupyter.widget-view+json": {
       "model_id": "8976539145ef42ba8fd0e48d04e46fdf",
       "version_major": 2,
       "version_minor": 0
      },
      "text/plain": [
       "train-00009-of-00041.parquet:   0%|          | 0.00/227M [00:00<?, ?B/s]"
      ]
     },
     "metadata": {},
     "output_type": "display_data"
    },
    {
     "data": {
      "application/vnd.jupyter.widget-view+json": {
       "model_id": "e69424d58d204a95af594e7aebcad67e",
       "version_major": 2,
       "version_minor": 0
      },
      "text/plain": [
       "train-00010-of-00041.parquet:   0%|          | 0.00/234M [00:00<?, ?B/s]"
      ]
     },
     "metadata": {},
     "output_type": "display_data"
    },
    {
     "data": {
      "application/vnd.jupyter.widget-view+json": {
       "model_id": "c63a4e1057d047b4b5fb51856a1750dd",
       "version_major": 2,
       "version_minor": 0
      },
      "text/plain": [
       "train-00011-of-00041.parquet:   0%|          | 0.00/232M [00:00<?, ?B/s]"
      ]
     },
     "metadata": {},
     "output_type": "display_data"
    },
    {
     "data": {
      "application/vnd.jupyter.widget-view+json": {
       "model_id": "19cc2bad980545b8989be1edc322f551",
       "version_major": 2,
       "version_minor": 0
      },
      "text/plain": [
       "train-00012-of-00041.parquet:   0%|          | 0.00/239M [00:00<?, ?B/s]"
      ]
     },
     "metadata": {},
     "output_type": "display_data"
    },
    {
     "data": {
      "application/vnd.jupyter.widget-view+json": {
       "model_id": "4b447a3f5d414cc7b3f58e1435308226",
       "version_major": 2,
       "version_minor": 0
      },
      "text/plain": [
       "train-00013-of-00041.parquet:   0%|          | 0.00/241M [00:00<?, ?B/s]"
      ]
     },
     "metadata": {},
     "output_type": "display_data"
    },
    {
     "data": {
      "application/vnd.jupyter.widget-view+json": {
       "model_id": "bfd4730793e94c2493ee3667f03f09c6",
       "version_major": 2,
       "version_minor": 0
      },
      "text/plain": [
       "train-00014-of-00041.parquet:   0%|          | 0.00/223M [00:00<?, ?B/s]"
      ]
     },
     "metadata": {},
     "output_type": "display_data"
    },
    {
     "data": {
      "application/vnd.jupyter.widget-view+json": {
       "model_id": "e0cfff75570a4a1ba035d85b6dec4f18",
       "version_major": 2,
       "version_minor": 0
      },
      "text/plain": [
       "train-00015-of-00041.parquet:   0%|          | 0.00/235M [00:00<?, ?B/s]"
      ]
     },
     "metadata": {},
     "output_type": "display_data"
    },
    {
     "data": {
      "application/vnd.jupyter.widget-view+json": {
       "model_id": "e7be8615125e4e5fb3da08b745e7ab96",
       "version_major": 2,
       "version_minor": 0
      },
      "text/plain": [
       "train-00016-of-00041.parquet:   0%|          | 0.00/503M [00:00<?, ?B/s]"
      ]
     },
     "metadata": {},
     "output_type": "display_data"
    },
    {
     "data": {
      "application/vnd.jupyter.widget-view+json": {
       "model_id": "a069f61140734e909e6b51524a3a5bad",
       "version_major": 2,
       "version_minor": 0
      },
      "text/plain": [
       "train-00017-of-00041.parquet:   0%|          | 0.00/231M [00:00<?, ?B/s]"
      ]
     },
     "metadata": {},
     "output_type": "display_data"
    },
    {
     "data": {
      "application/vnd.jupyter.widget-view+json": {
       "model_id": "b37049ba42ec48d6b6b06a19923bfe03",
       "version_major": 2,
       "version_minor": 0
      },
      "text/plain": [
       "train-00018-of-00041.parquet:   0%|          | 0.00/231M [00:00<?, ?B/s]"
      ]
     },
     "metadata": {},
     "output_type": "display_data"
    },
    {
     "data": {
      "application/vnd.jupyter.widget-view+json": {
       "model_id": "6cd0cfa6455f40218c91cb17149d09fb",
       "version_major": 2,
       "version_minor": 0
      },
      "text/plain": [
       "train-00019-of-00041.parquet:   0%|          | 0.00/195M [00:00<?, ?B/s]"
      ]
     },
     "metadata": {},
     "output_type": "display_data"
    },
    {
     "data": {
      "application/vnd.jupyter.widget-view+json": {
       "model_id": "0ad6e77bef914a3d9f387c486bcf6ccc",
       "version_major": 2,
       "version_minor": 0
      },
      "text/plain": [
       "train-00020-of-00041.parquet:   0%|          | 0.00/225M [00:00<?, ?B/s]"
      ]
     },
     "metadata": {},
     "output_type": "display_data"
    },
    {
     "data": {
      "application/vnd.jupyter.widget-view+json": {
       "model_id": "8e1b175f182d42e59273ee8dd241eab3",
       "version_major": 2,
       "version_minor": 0
      },
      "text/plain": [
       "train-00021-of-00041.parquet:   0%|          | 0.00/216M [00:00<?, ?B/s]"
      ]
     },
     "metadata": {},
     "output_type": "display_data"
    },
    {
     "data": {
      "application/vnd.jupyter.widget-view+json": {
       "model_id": "9401d2ac3b29451a8901fdccceb6f555",
       "version_major": 2,
       "version_minor": 0
      },
      "text/plain": [
       "train-00022-of-00041.parquet:   0%|          | 0.00/202M [00:00<?, ?B/s]"
      ]
     },
     "metadata": {},
     "output_type": "display_data"
    },
    {
     "data": {
      "application/vnd.jupyter.widget-view+json": {
       "model_id": "0d2f3cdfcb524327b9e7227e3fa62169",
       "version_major": 2,
       "version_minor": 0
      },
      "text/plain": [
       "train-00023-of-00041.parquet:   0%|          | 0.00/213M [00:00<?, ?B/s]"
      ]
     },
     "metadata": {},
     "output_type": "display_data"
    },
    {
     "data": {
      "application/vnd.jupyter.widget-view+json": {
       "model_id": "0ae7045a44bb44329fccd4f59649c995",
       "version_major": 2,
       "version_minor": 0
      },
      "text/plain": [
       "train-00024-of-00041.parquet:   0%|          | 0.00/221M [00:00<?, ?B/s]"
      ]
     },
     "metadata": {},
     "output_type": "display_data"
    },
    {
     "data": {
      "application/vnd.jupyter.widget-view+json": {
       "model_id": "3497f718e55c457dbd1914efafdb5490",
       "version_major": 2,
       "version_minor": 0
      },
      "text/plain": [
       "train-00025-of-00041.parquet:   0%|          | 0.00/221M [00:00<?, ?B/s]"
      ]
     },
     "metadata": {},
     "output_type": "display_data"
    },
    {
     "data": {
      "application/vnd.jupyter.widget-view+json": {
       "model_id": "e555b25c08f54ecabae117b7ccc867d5",
       "version_major": 2,
       "version_minor": 0
      },
      "text/plain": [
       "train-00026-of-00041.parquet:   0%|          | 0.00/208M [00:00<?, ?B/s]"
      ]
     },
     "metadata": {},
     "output_type": "display_data"
    },
    {
     "data": {
      "application/vnd.jupyter.widget-view+json": {
       "model_id": "2a7ef1298dcc4ebea21e31c8d8c4ed86",
       "version_major": 2,
       "version_minor": 0
      },
      "text/plain": [
       "train-00027-of-00041.parquet:   0%|          | 0.00/214M [00:00<?, ?B/s]"
      ]
     },
     "metadata": {},
     "output_type": "display_data"
    },
    {
     "data": {
      "application/vnd.jupyter.widget-view+json": {
       "model_id": "6e4929a7fb7a447ba9f1bd5352db9993",
       "version_major": 2,
       "version_minor": 0
      },
      "text/plain": [
       "train-00028-of-00041.parquet:   0%|          | 0.00/188M [00:00<?, ?B/s]"
      ]
     },
     "metadata": {},
     "output_type": "display_data"
    },
    {
     "data": {
      "application/vnd.jupyter.widget-view+json": {
       "model_id": "c26223300cc04335b2bdd6cb17c810f7",
       "version_major": 2,
       "version_minor": 0
      },
      "text/plain": [
       "train-00029-of-00041.parquet:   0%|          | 0.00/218M [00:00<?, ?B/s]"
      ]
     },
     "metadata": {},
     "output_type": "display_data"
    },
    {
     "data": {
      "application/vnd.jupyter.widget-view+json": {
       "model_id": "d491c25b9955487a8332bdbef9ca3455",
       "version_major": 2,
       "version_minor": 0
      },
      "text/plain": [
       "train-00030-of-00041.parquet:   0%|          | 0.00/204M [00:00<?, ?B/s]"
      ]
     },
     "metadata": {},
     "output_type": "display_data"
    },
    {
     "data": {
      "application/vnd.jupyter.widget-view+json": {
       "model_id": "c1ddd01a13554d7d9b08cc90ae0ccda9",
       "version_major": 2,
       "version_minor": 0
      },
      "text/plain": [
       "train-00031-of-00041.parquet:   0%|          | 0.00/215M [00:00<?, ?B/s]"
      ]
     },
     "metadata": {},
     "output_type": "display_data"
    },
    {
     "data": {
      "application/vnd.jupyter.widget-view+json": {
       "model_id": "c8ab78a6a81d4919a7dad5dbf7d01dff",
       "version_major": 2,
       "version_minor": 0
      },
      "text/plain": [
       "train-00032-of-00041.parquet:   0%|          | 0.00/214M [00:00<?, ?B/s]"
      ]
     },
     "metadata": {},
     "output_type": "display_data"
    },
    {
     "data": {
      "application/vnd.jupyter.widget-view+json": {
       "model_id": "8079b878a31c4e33b4c963547e63b04e",
       "version_major": 2,
       "version_minor": 0
      },
      "text/plain": [
       "train-00033-of-00041.parquet:   0%|          | 0.00/203M [00:00<?, ?B/s]"
      ]
     },
     "metadata": {},
     "output_type": "display_data"
    },
    {
     "data": {
      "application/vnd.jupyter.widget-view+json": {
       "model_id": "8032aafd26484aaaac2822bb73cfe511",
       "version_major": 2,
       "version_minor": 0
      },
      "text/plain": [
       "train-00034-of-00041.parquet:   0%|          | 0.00/219M [00:00<?, ?B/s]"
      ]
     },
     "metadata": {},
     "output_type": "display_data"
    },
    {
     "data": {
      "application/vnd.jupyter.widget-view+json": {
       "model_id": "e01b811edf384414b63fdf7254ef1aa9",
       "version_major": 2,
       "version_minor": 0
      },
      "text/plain": [
       "train-00035-of-00041.parquet:   0%|          | 0.00/224M [00:00<?, ?B/s]"
      ]
     },
     "metadata": {},
     "output_type": "display_data"
    },
    {
     "data": {
      "application/vnd.jupyter.widget-view+json": {
       "model_id": "4563ae117df54aceba422929813f7ee0",
       "version_major": 2,
       "version_minor": 0
      },
      "text/plain": [
       "train-00036-of-00041.parquet:   0%|          | 0.00/610M [00:00<?, ?B/s]"
      ]
     },
     "metadata": {},
     "output_type": "display_data"
    },
    {
     "data": {
      "application/vnd.jupyter.widget-view+json": {
       "model_id": "7e8ddb284f734f839d224c69415d2eb7",
       "version_major": 2,
       "version_minor": 0
      },
      "text/plain": [
       "train-00037-of-00041.parquet:   0%|          | 0.00/674M [00:00<?, ?B/s]"
      ]
     },
     "metadata": {},
     "output_type": "display_data"
    },
    {
     "data": {
      "application/vnd.jupyter.widget-view+json": {
       "model_id": "d6b3e4cc9db24bfb9c82098164d03a03",
       "version_major": 2,
       "version_minor": 0
      },
      "text/plain": [
       "train-00038-of-00041.parquet:   0%|          | 0.00/538M [00:00<?, ?B/s]"
      ]
     },
     "metadata": {},
     "output_type": "display_data"
    },
    {
     "data": {
      "application/vnd.jupyter.widget-view+json": {
       "model_id": "219ac0c0e88241b5964a030151d7884c",
       "version_major": 2,
       "version_minor": 0
      },
      "text/plain": [
       "train-00039-of-00041.parquet:   0%|          | 0.00/465M [00:00<?, ?B/s]"
      ]
     },
     "metadata": {},
     "output_type": "display_data"
    },
    {
     "data": {
      "application/vnd.jupyter.widget-view+json": {
       "model_id": "5d562cda07f14102ab791711370a7b99",
       "version_major": 2,
       "version_minor": 0
      },
      "text/plain": [
       "train-00040-of-00041.parquet:   0%|          | 0.00/422M [00:00<?, ?B/s]"
      ]
     },
     "metadata": {},
     "output_type": "display_data"
    },
    {
     "data": {
      "application/vnd.jupyter.widget-view+json": {
       "model_id": "ba4951630bdf4174ba9e728f751d35d4",
       "version_major": 2,
       "version_minor": 0
      },
      "text/plain": [
       "Generating train split:   0%|          | 0/6407814 [00:00<?, ? examples/s]"
      ]
     },
     "metadata": {},
     "output_type": "display_data"
    },
    {
     "data": {
      "application/vnd.jupyter.widget-view+json": {
       "model_id": "2dd1f94b1ef64c98b517ed6ebbcb27d6",
       "version_major": 2,
       "version_minor": 0
      },
      "text/plain": [
       "Loading dataset shards:   0%|          | 0/41 [00:00<?, ?it/s]"
      ]
     },
     "metadata": {},
     "output_type": "display_data"
    }
   ],
   "source": [
    "# 加载数据集分片\n",
    "dataset = load_dataset(\"wikimedia/wikipedia\", \"20231101.en\")"
   ]
  },
  {
   "cell_type": "code",
   "execution_count": 8,
   "metadata": {},
   "outputs": [
    {
     "data": {
      "text/plain": [
       "DatasetDict({\n",
       "    train: Dataset({\n",
       "        features: ['id', 'url', 'title', 'text'],\n",
       "        num_rows: 6407814\n",
       "    })\n",
       "})"
      ]
     },
     "execution_count": 8,
     "metadata": {},
     "output_type": "execute_result"
    }
   ],
   "source": [
    "dataset"
   ]
  },
  {
   "cell_type": "code",
   "execution_count": 9,
   "metadata": {},
   "outputs": [],
   "source": [
    "import numpy as np"
   ]
  },
  {
   "cell_type": "code",
   "execution_count": 10,
   "metadata": {},
   "outputs": [
    {
     "data": {
      "text/plain": [
       "6407814"
      ]
     },
     "execution_count": 10,
     "metadata": {},
     "output_type": "execute_result"
    }
   ],
   "source": [
    "len(dataset[\"train\"])"
   ]
  },
  {
   "cell_type": "code",
   "execution_count": 11,
   "metadata": {},
   "outputs": [],
   "source": [
    "batch_size = 5000\n",
    "batches = [range(i, min(i+batch_size, len(dataset[\"train\"]))) \n",
    "          for i in range(0, len(dataset[\"train\"]), batch_size)]"
   ]
  },
  {
   "cell_type": "code",
   "execution_count": 12,
   "metadata": {},
   "outputs": [],
   "source": [
    "\n",
    "# 内存映射文件初始化\n",
    "num_perm = 128\n",
    "mmap_shape = (len(dataset[\"train\"]), num_perm)\n",
    "mmap_file = np.memmap(\"minhashes.dat\", dtype=np.uint64, mode=\"w+\", shape=mmap_shape)\n",
    "\n",
    "# 多进程生成MinHash\n",
    "def process_batch(batch_indices):\n",
    "    batch = dataset[\"train\"].select(batch_indices)\n",
    "    for idx, ex in zip(batch_indices, batch):\n",
    "        m = generate_minhash(ex[\"text\"], num_perm=num_perm)\n",
    "        mmap_file[idx] = m.hashvalues\n",
    "    return batch_indices\n"
   ]
  },
  {
   "cell_type": "code",
   "execution_count": 30,
   "metadata": {
    "execution": {
     "iopub.execute_input": "2025-02-22T06:50:37.740813Z",
     "iopub.status.busy": "2025-02-22T06:50:37.740364Z",
     "iopub.status.idle": "2025-02-22T06:50:37.754033Z",
     "shell.execute_reply": "2025-02-22T06:50:37.751832Z",
     "shell.execute_reply.started": "2025-02-22T06:50:37.740775Z"
    }
   },
   "outputs": [
    {
     "data": {
      "text/plain": [
       "Dataset({\n",
       "    features: ['id', 'url', 'title', 'text'],\n",
       "    num_rows: 10\n",
       "})"
      ]
     },
     "execution_count": 30,
     "metadata": {},
     "output_type": "execute_result"
    }
   ],
   "source": [
    "dataset[\"train\"].select(range(0,10))"
   ]
  },
  {
   "cell_type": "code",
   "execution_count": 13,
   "metadata": {},
   "outputs": [
    {
     "name": "stderr",
     "output_type": "stream",
     "text": [
      " 77%|███████▋  | 4952053/6407814 [2:07:07<32:44, 740.87it/s]"
     ]
    }
   ],
   "source": [
    "\n",
    "# 使用进程池并行处理，kaggle应该是四核CPU\n",
    "with mp.Pool(processes=32) as pool:\n",
    "    # pool.map(process_batch, [range(1000)])\n",
    "    pool.map(process_batch, batches)\n"
   ]
  },
  {
   "cell_type": "markdown",
   "metadata": {
    "jp-MarkdownHeadingCollapsed": true
   },
   "source": [
    "### 打包代码"
   ]
  },
  {
   "cell_type": "code",
   "execution_count": 40,
   "metadata": {
    "execution": {
     "iopub.execute_input": "2025-02-22T12:06:23.377455Z",
     "iopub.status.busy": "2025-02-22T12:06:23.376946Z",
     "iopub.status.idle": "2025-02-22T12:13:32.532370Z",
     "shell.execute_reply": "2025-02-22T12:13:32.530588Z",
     "shell.execute_reply.started": "2025-02-22T12:06:23.377426Z"
    }
   },
   "outputs": [
    {
     "ename": "KeyboardInterrupt",
     "evalue": "",
     "output_type": "error",
     "traceback": [
      "\u001b[0;31m---------------------------------------------------------------------------\u001b[0m",
      "\u001b[0;31mKeyboardInterrupt\u001b[0m                         Traceback (most recent call last)",
      "\u001b[0;32m<ipython-input-40-04864a6cf6c0>\u001b[0m in \u001b[0;36m<cell line: 20>\u001b[0;34m()\u001b[0m\n\u001b[1;32m     25\u001b[0m \u001b[0;34m\u001b[0m\u001b[0m\n\u001b[1;32m     26\u001b[0m         \u001b[0mos\u001b[0m\u001b[0;34m.\u001b[0m\u001b[0mremove\u001b[0m\u001b[0;34m(\u001b[0m\u001b[0mzipPath\u001b[0m\u001b[0;34m)\u001b[0m\u001b[0;34m\u001b[0m\u001b[0;34m\u001b[0m\u001b[0m\n\u001b[0;32m---> 27\u001b[0;31m     \u001b[0mfile2zip\u001b[0m\u001b[0;34m(\u001b[0m\u001b[0mpackagePath\u001b[0m\u001b[0;34m,\u001b[0m \u001b[0mzipPath\u001b[0m\u001b[0;34m)\u001b[0m\u001b[0;34m\u001b[0m\u001b[0;34m\u001b[0m\u001b[0m\n\u001b[0m\u001b[1;32m     28\u001b[0m     \u001b[0mprint\u001b[0m\u001b[0;34m(\u001b[0m\u001b[0;34m\"打包完成\"\u001b[0m\u001b[0;34m)\u001b[0m\u001b[0;34m\u001b[0m\u001b[0;34m\u001b[0m\u001b[0m\n\u001b[1;32m     29\u001b[0m     \u001b[0mprint\u001b[0m\u001b[0;34m(\u001b[0m\u001b[0mdatetime\u001b[0m\u001b[0;34m.\u001b[0m\u001b[0mdatetime\u001b[0m\u001b[0;34m.\u001b[0m\u001b[0mutcnow\u001b[0m\u001b[0;34m(\u001b[0m\u001b[0;34m)\u001b[0m\u001b[0;34m)\u001b[0m\u001b[0;34m\u001b[0m\u001b[0;34m\u001b[0m\u001b[0m\n",
      "\u001b[0;32m<ipython-input-40-04864a6cf6c0>\u001b[0m in \u001b[0;36mfile2zip\u001b[0;34m(packagePath, zipPath)\u001b[0m\n\u001b[1;32m     14\u001b[0m         \u001b[0;32mfor\u001b[0m \u001b[0mname\u001b[0m \u001b[0;32min\u001b[0m \u001b[0mfileNames\u001b[0m\u001b[0;34m:\u001b[0m\u001b[0;34m\u001b[0m\u001b[0;34m\u001b[0m\u001b[0m\n\u001b[1;32m     15\u001b[0m             \u001b[0mfullName\u001b[0m \u001b[0;34m=\u001b[0m \u001b[0mos\u001b[0m\u001b[0;34m.\u001b[0m\u001b[0mpath\u001b[0m\u001b[0;34m.\u001b[0m\u001b[0mjoin\u001b[0m\u001b[0;34m(\u001b[0m\u001b[0mpath\u001b[0m\u001b[0;34m,\u001b[0m \u001b[0mname\u001b[0m\u001b[0;34m)\u001b[0m\u001b[0;34m\u001b[0m\u001b[0;34m\u001b[0m\u001b[0m\n\u001b[0;32m---> 16\u001b[0;31m             \u001b[0mzip\u001b[0m\u001b[0;34m.\u001b[0m\u001b[0mwrite\u001b[0m\u001b[0;34m(\u001b[0m\u001b[0mfullName\u001b[0m\u001b[0;34m,\u001b[0m \u001b[0mname\u001b[0m\u001b[0;34m)\u001b[0m\u001b[0;34m\u001b[0m\u001b[0;34m\u001b[0m\u001b[0m\n\u001b[0m\u001b[1;32m     17\u001b[0m     \u001b[0mzip\u001b[0m\u001b[0;34m.\u001b[0m\u001b[0mclose\u001b[0m\u001b[0;34m(\u001b[0m\u001b[0;34m)\u001b[0m\u001b[0;34m\u001b[0m\u001b[0;34m\u001b[0m\u001b[0m\n\u001b[1;32m     18\u001b[0m \u001b[0;34m\u001b[0m\u001b[0m\n",
      "\u001b[0;32m/usr/lib/python3.10/zipfile.py\u001b[0m in \u001b[0;36mwrite\u001b[0;34m(self, filename, arcname, compress_type, compresslevel)\u001b[0m\n\u001b[1;32m   1787\u001b[0m         \u001b[0;32melse\u001b[0m\u001b[0;34m:\u001b[0m\u001b[0;34m\u001b[0m\u001b[0;34m\u001b[0m\u001b[0m\n\u001b[1;32m   1788\u001b[0m             \u001b[0;32mwith\u001b[0m \u001b[0mopen\u001b[0m\u001b[0;34m(\u001b[0m\u001b[0mfilename\u001b[0m\u001b[0;34m,\u001b[0m \u001b[0;34m\"rb\"\u001b[0m\u001b[0;34m)\u001b[0m \u001b[0;32mas\u001b[0m \u001b[0msrc\u001b[0m\u001b[0;34m,\u001b[0m \u001b[0mself\u001b[0m\u001b[0;34m.\u001b[0m\u001b[0mopen\u001b[0m\u001b[0;34m(\u001b[0m\u001b[0mzinfo\u001b[0m\u001b[0;34m,\u001b[0m \u001b[0;34m'w'\u001b[0m\u001b[0;34m)\u001b[0m \u001b[0;32mas\u001b[0m \u001b[0mdest\u001b[0m\u001b[0;34m:\u001b[0m\u001b[0;34m\u001b[0m\u001b[0;34m\u001b[0m\u001b[0m\n\u001b[0;32m-> 1789\u001b[0;31m                 \u001b[0mshutil\u001b[0m\u001b[0;34m.\u001b[0m\u001b[0mcopyfileobj\u001b[0m\u001b[0;34m(\u001b[0m\u001b[0msrc\u001b[0m\u001b[0;34m,\u001b[0m \u001b[0mdest\u001b[0m\u001b[0;34m,\u001b[0m \u001b[0;36m1024\u001b[0m\u001b[0;34m*\u001b[0m\u001b[0;36m8\u001b[0m\u001b[0;34m)\u001b[0m\u001b[0;34m\u001b[0m\u001b[0;34m\u001b[0m\u001b[0m\n\u001b[0m\u001b[1;32m   1790\u001b[0m \u001b[0;34m\u001b[0m\u001b[0m\n\u001b[1;32m   1791\u001b[0m     def writestr(self, zinfo_or_arcname, data,\n",
      "\u001b[0;32m/usr/lib/python3.10/shutil.py\u001b[0m in \u001b[0;36mcopyfileobj\u001b[0;34m(fsrc, fdst, length)\u001b[0m\n\u001b[1;32m    196\u001b[0m         \u001b[0;32mif\u001b[0m \u001b[0;32mnot\u001b[0m \u001b[0mbuf\u001b[0m\u001b[0;34m:\u001b[0m\u001b[0;34m\u001b[0m\u001b[0;34m\u001b[0m\u001b[0m\n\u001b[1;32m    197\u001b[0m             \u001b[0;32mbreak\u001b[0m\u001b[0;34m\u001b[0m\u001b[0;34m\u001b[0m\u001b[0m\n\u001b[0;32m--> 198\u001b[0;31m         \u001b[0mfdst_write\u001b[0m\u001b[0;34m(\u001b[0m\u001b[0mbuf\u001b[0m\u001b[0;34m)\u001b[0m\u001b[0;34m\u001b[0m\u001b[0;34m\u001b[0m\u001b[0m\n\u001b[0m\u001b[1;32m    199\u001b[0m \u001b[0;34m\u001b[0m\u001b[0m\n\u001b[1;32m    200\u001b[0m \u001b[0;32mdef\u001b[0m \u001b[0m_samefile\u001b[0m\u001b[0;34m(\u001b[0m\u001b[0msrc\u001b[0m\u001b[0;34m,\u001b[0m \u001b[0mdst\u001b[0m\u001b[0;34m)\u001b[0m\u001b[0;34m:\u001b[0m\u001b[0;34m\u001b[0m\u001b[0;34m\u001b[0m\u001b[0m\n",
      "\u001b[0;32m/usr/lib/python3.10/zipfile.py\u001b[0m in \u001b[0;36mwrite\u001b[0;34m(self, data)\u001b[0m\n\u001b[1;32m   1140\u001b[0m         \u001b[0mself\u001b[0m\u001b[0;34m.\u001b[0m\u001b[0m_crc\u001b[0m \u001b[0;34m=\u001b[0m \u001b[0mcrc32\u001b[0m\u001b[0;34m(\u001b[0m\u001b[0mdata\u001b[0m\u001b[0;34m,\u001b[0m \u001b[0mself\u001b[0m\u001b[0;34m.\u001b[0m\u001b[0m_crc\u001b[0m\u001b[0;34m)\u001b[0m\u001b[0;34m\u001b[0m\u001b[0;34m\u001b[0m\u001b[0m\n\u001b[1;32m   1141\u001b[0m         \u001b[0;32mif\u001b[0m \u001b[0mself\u001b[0m\u001b[0;34m.\u001b[0m\u001b[0m_compressor\u001b[0m\u001b[0;34m:\u001b[0m\u001b[0;34m\u001b[0m\u001b[0;34m\u001b[0m\u001b[0m\n\u001b[0;32m-> 1142\u001b[0;31m             \u001b[0mdata\u001b[0m \u001b[0;34m=\u001b[0m \u001b[0mself\u001b[0m\u001b[0;34m.\u001b[0m\u001b[0m_compressor\u001b[0m\u001b[0;34m.\u001b[0m\u001b[0mcompress\u001b[0m\u001b[0;34m(\u001b[0m\u001b[0mdata\u001b[0m\u001b[0;34m)\u001b[0m\u001b[0;34m\u001b[0m\u001b[0;34m\u001b[0m\u001b[0m\n\u001b[0m\u001b[1;32m   1143\u001b[0m             \u001b[0mself\u001b[0m\u001b[0;34m.\u001b[0m\u001b[0m_compress_size\u001b[0m \u001b[0;34m+=\u001b[0m \u001b[0mlen\u001b[0m\u001b[0;34m(\u001b[0m\u001b[0mdata\u001b[0m\u001b[0;34m)\u001b[0m\u001b[0;34m\u001b[0m\u001b[0;34m\u001b[0m\u001b[0m\n\u001b[1;32m   1144\u001b[0m         \u001b[0mself\u001b[0m\u001b[0;34m.\u001b[0m\u001b[0m_fileobj\u001b[0m\u001b[0;34m.\u001b[0m\u001b[0mwrite\u001b[0m\u001b[0;34m(\u001b[0m\u001b[0mdata\u001b[0m\u001b[0;34m)\u001b[0m\u001b[0;34m\u001b[0m\u001b[0;34m\u001b[0m\u001b[0m\n",
      "\u001b[0;31mKeyboardInterrupt\u001b[0m: "
     ]
    }
   ],
   "source": [
    "import os\n",
    "import zipfile\n",
    "import datetime\n",
    "\n",
    "def file2zip(packagePath, zipPath):\n",
    "    '''\n",
    "  :param packagePath: 文件夹路径\n",
    "  :param zipPath: 压缩包路径\n",
    "  :return:\n",
    "  '''\n",
    "    zip = zipfile.ZipFile(zipPath, 'w', zipfile.ZIP_DEFLATED)\n",
    "    for path, dirNames, fileNames in os.walk(packagePath):\n",
    "        fpath = path.replace(packagePath, '')\n",
    "        for name in fileNames:\n",
    "            fullName = os.path.join(path, name)\n",
    "            zip.write(fullName, name)\n",
    "    zip.close()\n",
    "\n",
    "\n",
    "if __name__ == \"__main__\":\n",
    "    # 文件夹路径\n",
    "    packagePath = '/kaggle/working/'#需要压缩的文件路径\n",
    "    zipPath = '/kaggle/working/output.zip'#保存压缩包的路径\n",
    "    if os.path.exists(zipPath):\n",
    "        \n",
    "        os.remove(zipPath)\n",
    "    file2zip(packagePath, zipPath)\n",
    "    print(\"打包完成\")\n",
    "    print(datetime.datetime.utcnow())\n"
   ]
  },
  {
   "cell_type": "code",
   "execution_count": null,
   "metadata": {
    "execution": {
     "iopub.status.busy": "2025-02-22T12:13:32.532933Z",
     "iopub.status.idle": "2025-02-22T12:13:32.533244Z",
     "shell.execute_reply": "2025-02-22T12:13:32.533118Z"
    }
   },
   "outputs": [],
   "source": [
    "import os\n",
    "os.chdir('/kaggle/working')\n",
    "print(os.getcwd())\n",
    "print(os.listdir(\"/kaggle/working\"))\n",
    "from IPython.display import FileLink\n",
    "FileLink('output.zip')"
   ]
  },
  {
   "cell_type": "code",
   "execution_count": 37,
   "metadata": {
    "execution": {
     "iopub.execute_input": "2025-02-22T12:03:01.914791Z",
     "iopub.status.busy": "2025-02-22T12:03:01.914418Z",
     "iopub.status.idle": "2025-02-22T12:03:01.921232Z",
     "shell.execute_reply": "2025-02-22T12:03:01.919942Z",
     "shell.execute_reply.started": "2025-02-22T12:03:01.914752Z"
    }
   },
   "outputs": [
    {
     "data": {
      "text/html": [
       "Path (<tt>output.zip</tt>) doesn't exist. It may still be in the process of being generated, or you may have the incorrect path."
      ],
      "text/plain": [
       "/kaggle/working/output.zip"
      ]
     },
     "execution_count": 37,
     "metadata": {},
     "output_type": "execute_result"
    }
   ],
   "source": [
    "FileLink('output.zip')"
   ]
  },
  {
   "cell_type": "markdown",
   "metadata": {},
   "source": [
    "### 找到重复文档"
   ]
  },
  {
   "cell_type": "code",
   "execution_count": 7,
   "metadata": {
    "execution": {
     "iopub.execute_input": "2025-02-23T02:11:56.262112Z",
     "iopub.status.busy": "2025-02-23T02:11:56.261724Z",
     "iopub.status.idle": "2025-02-23T02:11:56.277333Z",
     "shell.execute_reply": "2025-02-23T02:11:56.276170Z",
     "shell.execute_reply.started": "2025-02-23T02:11:56.262083Z"
    }
   },
   "outputs": [],
   "source": [
    "# Or you can read uploaded file instead\n",
    "mmap_file = np.memmap(\"/kaggle/input/wikipedia-en-hashes/minhashes.dat\", dtype=np.uint64, mode=\"r\")"
   ]
  },
  {
   "cell_type": "code",
   "execution_count": 14,
   "metadata": {},
   "outputs": [],
   "source": [
    "from tqdm import tqdm"
   ]
  },
  {
   "cell_type": "markdown",
   "metadata": {},
   "source": [
    "#### poor man's MinHash"
   ]
  },
  {
   "cell_type": "code",
   "execution_count": 12,
   "metadata": {
    "execution": {
     "iopub.execute_input": "2025-02-23T02:14:29.082262Z",
     "iopub.status.busy": "2025-02-23T02:14:29.081724Z",
     "iopub.status.idle": "2025-02-23T02:14:29.112335Z",
     "shell.execute_reply": "2025-02-23T02:14:29.111204Z",
     "shell.execute_reply.started": "2025-02-23T02:14:29.082228Z"
    }
   },
   "outputs": [],
   "source": [
    "# 初始化LSH索引（阈值设为0.7）\n",
    "lsh = MinHashLSH(threshold=0.7, num_perm=num_perm)\n",
    "duplicate_indices = set()\n",
    "batch_size = 2000000\n",
    "batches = [range(idx, min(idx+batch_size, len(dataset[\"train\"]))) for idx in range(0,len(dataset[\"train\"]),batch_size)]\n"
   ]
  },
  {
   "cell_type": "code",
   "execution_count": 13,
   "metadata": {
    "execution": {
     "iopub.execute_input": "2025-02-23T02:14:30.721759Z",
     "iopub.status.busy": "2025-02-23T02:14:30.721307Z",
     "iopub.status.idle": "2025-02-23T02:14:30.730496Z",
     "shell.execute_reply": "2025-02-23T02:14:30.729475Z",
     "shell.execute_reply.started": "2025-02-23T02:14:30.721726Z"
    }
   },
   "outputs": [
    {
     "data": {
      "text/plain": [
       "[range(0, 2000000),\n",
       " range(2000000, 4000000),\n",
       " range(4000000, 6000000),\n",
       " range(6000000, 6407814)]"
      ]
     },
     "execution_count": 13,
     "metadata": {},
     "output_type": "execute_result"
    }
   ],
   "source": [
    "batches"
   ]
  },
  {
   "cell_type": "code",
   "execution_count": 20,
   "metadata": {
    "execution": {
     "iopub.execute_input": "2025-02-23T02:19:28.928301Z",
     "iopub.status.busy": "2025-02-23T02:19:28.927943Z",
     "iopub.status.idle": "2025-02-23T02:19:28.935739Z",
     "shell.execute_reply": "2025-02-23T02:19:28.934450Z",
     "shell.execute_reply.started": "2025-02-23T02:19:28.928276Z"
    }
   },
   "outputs": [
    {
     "data": {
      "text/plain": [
       "2000000"
      ]
     },
     "execution_count": 20,
     "metadata": {},
     "output_type": "execute_result"
    }
   ],
   "source": [
    "len(batches[0])"
   ]
  },
  {
   "cell_type": "code",
   "execution_count": 19,
   "metadata": {
    "execution": {
     "iopub.execute_input": "2025-02-23T02:18:10.428680Z",
     "iopub.status.busy": "2025-02-23T02:18:10.428262Z",
     "iopub.status.idle": "2025-02-23T02:18:10.470924Z",
     "shell.execute_reply": "2025-02-23T02:18:10.469062Z",
     "shell.execute_reply.started": "2025-02-23T02:18:10.428649Z"
    }
   },
   "outputs": [
    {
     "name": "stdout",
     "output_type": "stream",
     "text": [
      "==================== batch:range(0, 2000000) ====================\n"
     ]
    },
    {
     "name": "stderr",
     "output_type": "stream",
     "text": [
      "  0%|          | 0/2000000 [00:00<?, ?it/s]\n"
     ]
    },
    {
     "ename": "TypeError",
     "evalue": "object of type 'numpy.uint64' has no len()",
     "output_type": "error",
     "traceback": [
      "\u001b[0;31m---------------------------------------------------------------------------\u001b[0m",
      "\u001b[0;31mTypeError\u001b[0m                                 Traceback (most recent call last)",
      "\u001b[0;32m<ipython-input-19-f9db4ca4b43d>\u001b[0m in \u001b[0;36m<cell line: 1>\u001b[0;34m()\u001b[0m\n\u001b[1;32m      5\u001b[0m         \u001b[0mm\u001b[0m\u001b[0;34m.\u001b[0m\u001b[0mhashvalues\u001b[0m \u001b[0;34m=\u001b[0m \u001b[0mmmap_file\u001b[0m\u001b[0;34m[\u001b[0m\u001b[0midx\u001b[0m\u001b[0;34m]\u001b[0m\u001b[0;34m\u001b[0m\u001b[0;34m\u001b[0m\u001b[0m\n\u001b[1;32m      6\u001b[0m \u001b[0;34m\u001b[0m\u001b[0m\n\u001b[0;32m----> 7\u001b[0;31m         \u001b[0mcandidates\u001b[0m \u001b[0;34m=\u001b[0m \u001b[0mlsh\u001b[0m\u001b[0;34m.\u001b[0m\u001b[0mquery\u001b[0m\u001b[0;34m(\u001b[0m\u001b[0mm\u001b[0m\u001b[0;34m)\u001b[0m\u001b[0;34m\u001b[0m\u001b[0;34m\u001b[0m\u001b[0m\n\u001b[0m\u001b[1;32m      8\u001b[0m         \u001b[0;32mif\u001b[0m \u001b[0mcandidates\u001b[0m\u001b[0;34m:\u001b[0m\u001b[0;34m\u001b[0m\u001b[0;34m\u001b[0m\u001b[0m\n\u001b[1;32m      9\u001b[0m             \u001b[0mduplicate_indices\u001b[0m\u001b[0;34m.\u001b[0m\u001b[0madd\u001b[0m\u001b[0;34m(\u001b[0m\u001b[0midx\u001b[0m\u001b[0;34m)\u001b[0m\u001b[0;34m\u001b[0m\u001b[0;34m\u001b[0m\u001b[0m\n",
      "\u001b[0;32m/usr/local/lib/python3.10/dist-packages/datasketch/lsh.py\u001b[0m in \u001b[0;36mquery\u001b[0;34m(self, minhash)\u001b[0m\n\u001b[1;32m    395\u001b[0m \u001b[0;34m\u001b[0m\u001b[0m\n\u001b[1;32m    396\u001b[0m         \"\"\"\n\u001b[0;32m--> 397\u001b[0;31m         \u001b[0;32mif\u001b[0m \u001b[0mlen\u001b[0m\u001b[0;34m(\u001b[0m\u001b[0mminhash\u001b[0m\u001b[0;34m)\u001b[0m \u001b[0;34m!=\u001b[0m \u001b[0mself\u001b[0m\u001b[0;34m.\u001b[0m\u001b[0mh\u001b[0m\u001b[0;34m:\u001b[0m\u001b[0;34m\u001b[0m\u001b[0;34m\u001b[0m\u001b[0m\n\u001b[0m\u001b[1;32m    398\u001b[0m             raise ValueError(\n\u001b[1;32m    399\u001b[0m                 \u001b[0;34m\"Expecting minhash with length %d, got %d\"\u001b[0m \u001b[0;34m%\u001b[0m \u001b[0;34m(\u001b[0m\u001b[0mself\u001b[0m\u001b[0;34m.\u001b[0m\u001b[0mh\u001b[0m\u001b[0;34m,\u001b[0m \u001b[0mlen\u001b[0m\u001b[0;34m(\u001b[0m\u001b[0mminhash\u001b[0m\u001b[0;34m)\u001b[0m\u001b[0;34m)\u001b[0m\u001b[0;34m\u001b[0m\u001b[0;34m\u001b[0m\u001b[0m\n",
      "\u001b[0;32m/usr/local/lib/python3.10/dist-packages/datasketch/minhash.py\u001b[0m in \u001b[0;36m__len__\u001b[0;34m(self)\u001b[0m\n\u001b[1;32m    288\u001b[0m             \u001b[0mint\u001b[0m\u001b[0;34m:\u001b[0m \u001b[0mThe\u001b[0m \u001b[0mnumber\u001b[0m \u001b[0mof\u001b[0m \u001b[0mhash\u001b[0m \u001b[0mvalues\u001b[0m\u001b[0;34m.\u001b[0m\u001b[0;34m\u001b[0m\u001b[0;34m\u001b[0m\u001b[0m\n\u001b[1;32m    289\u001b[0m         \"\"\"\n\u001b[0;32m--> 290\u001b[0;31m         \u001b[0;32mreturn\u001b[0m \u001b[0mlen\u001b[0m\u001b[0;34m(\u001b[0m\u001b[0mself\u001b[0m\u001b[0;34m.\u001b[0m\u001b[0mhashvalues\u001b[0m\u001b[0;34m)\u001b[0m\u001b[0;34m\u001b[0m\u001b[0;34m\u001b[0m\u001b[0m\n\u001b[0m\u001b[1;32m    291\u001b[0m \u001b[0;34m\u001b[0m\u001b[0m\n\u001b[1;32m    292\u001b[0m     \u001b[0;32mdef\u001b[0m \u001b[0m__eq__\u001b[0m\u001b[0;34m(\u001b[0m\u001b[0mself\u001b[0m\u001b[0;34m,\u001b[0m \u001b[0mother\u001b[0m\u001b[0;34m:\u001b[0m \u001b[0mMinHash\u001b[0m\u001b[0;34m)\u001b[0m \u001b[0;34m->\u001b[0m \u001b[0mbool\u001b[0m\u001b[0;34m:\u001b[0m\u001b[0;34m\u001b[0m\u001b[0;34m\u001b[0m\u001b[0m\n",
      "\u001b[0;31mTypeError\u001b[0m: object of type 'numpy.uint64' has no len()"
     ]
    }
   ],
   "source": [
    "for i, batch in enumerate(batches):\n",
    "    print(\"=\"*20, f\"batch:{batch}\", \"=\"*20)\n",
    "    for idx in tqdm(range(i*batch_size, i*batch_size+len(batch))):\n",
    "        m = MinHash(num_perm=num_perm)\n",
    "        m.hashvalues = mmap_file[idx]\n",
    "        \n",
    "        candidates = lsh.query(m)\n",
    "        if candidates:\n",
    "            duplicate_indices.add(idx)\n",
    "        else:\n",
    "            lsh.insert(idx, m)\n",
    "    lsh = MinHashLSH(threshold=0.7, num_perm=num_perm)"
   ]
  },
  {
   "cell_type": "code",
   "execution_count": 15,
   "metadata": {},
   "outputs": [
    {
     "name": "stderr",
     "output_type": "stream",
     "text": [
      "100%|██████████| 6407814/6407814 [2:45:41<00:00, 644.56it/s]   \n"
     ]
    }
   ],
   "source": [
    "# 初始化LSH索引（阈值设为0.7）\n",
    "lsh = MinHashLSH(threshold=0.7, num_perm=num_perm)\n",
    "duplicate_indices = set()\n",
    "for idx in tqdm(range(len(dataset[\"train\"]))):\n",
    "    m = MinHash(num_perm=num_perm)\n",
    "    m.hashvalues = mmap_file[idx]\n",
    "    \n",
    "    candidates = lsh.query(m)\n",
    "    if candidates:\n",
    "        duplicate_indices.add(idx)\n",
    "    else:\n",
    "        lsh.insert(idx, m)"
   ]
  },
  {
   "cell_type": "code",
   "execution_count": 16,
   "metadata": {},
   "outputs": [
    {
     "data": {
      "application/vnd.jupyter.widget-view+json": {
       "model_id": "819247fbd2664e0ca835a1b483a2e160",
       "version_major": 2,
       "version_minor": 0
      },
      "text/plain": [
       "Filter:   0%|          | 0/6407814 [00:00<?, ? examples/s]"
      ]
     },
     "metadata": {},
     "output_type": "display_data"
    }
   ],
   "source": [
    "# 保留非重复的样本\n",
    "def filter_duplicates(example, idx):\n",
    "    return idx not in duplicate_indices\n",
    "\n",
    "deduplicated_dataset = dataset.filter(filter_duplicates, with_indices=True)\n"
   ]
  },
  {
   "cell_type": "code",
   "execution_count": 17,
   "metadata": {},
   "outputs": [
    {
     "data": {
      "application/vnd.jupyter.widget-view+json": {
       "model_id": "5d21eeb49b6d466aa53e471675e145ba",
       "version_major": 2,
       "version_minor": 0
      },
      "text/plain": [
       "Saving the dataset (0/40 shards):   0%|          | 0/6217713 [00:00<?, ? examples/s]"
      ]
     },
     "metadata": {},
     "output_type": "display_data"
    }
   ],
   "source": [
    "deduplicated_dataset.save_to_disk(\"wikipedia_deduped\")"
   ]
  },
  {
   "cell_type": "code",
   "execution_count": 28,
   "metadata": {
    "execution": {
     "iopub.execute_input": "2025-02-23T01:29:02.719048Z",
     "iopub.status.busy": "2025-02-23T01:29:02.718379Z",
     "iopub.status.idle": "2025-02-23T01:29:02.747357Z",
     "shell.execute_reply": "2025-02-23T01:29:02.745734Z",
     "shell.execute_reply.started": "2025-02-23T01:29:02.719000Z"
    }
   },
   "outputs": [
    {
     "data": {
      "application/vnd.jupyter.widget-view+json": {
       "model_id": "41f2200a3ee3403d93639316c98abb22",
       "version_major": 2,
       "version_minor": 0
      },
      "text/plain": [
       "VBox(children=(HTML(value='<center> <img\\nsrc=https://huggingface.co/front/assets/huggingface_logo-noborder.sv…"
      ]
     },
     "metadata": {},
     "output_type": "display_data"
    }
   ],
   "source": [
    "from huggingface_hub import notebook_login\n",
    "notebook_login()"
   ]
  },
  {
   "cell_type": "code",
   "execution_count": 18,
   "metadata": {},
   "outputs": [],
   "source": [
    "from huggingface_hub import HfApi\n",
    "api = HfApi(token = \"your_tokens\")"
   ]
  },
  {
   "cell_type": "code",
   "execution_count": 20,
   "metadata": {},
   "outputs": [
    {
     "data": {
      "application/vnd.jupyter.widget-view+json": {
       "model_id": "e9e21cbeabb34832ba801241d45e90f7",
       "version_major": 2,
       "version_minor": 0
      },
      "text/plain": [
       "Recovering from metadata files:   0%|          | 0/43 [00:00<?, ?it/s]"
      ]
     },
     "metadata": {},
     "output_type": "display_data"
    },
    {
     "name": "stdout",
     "output_type": "stream",
     "text": [
      "\n",
      "\n",
      "\n",
      "---------- 2025-02-23 16:41:57 (0:00:00) ----------\n",
      "Files:   hashed 3/43 (11.7K/20.1G) | pre-uploaded: 0/0 (0.0/20.1G) (+43 unsure) | committed: 0/43 (0.0/20.1G) | ignored: 0\n",
      "Workers: hashing: 40 | get upload mode: 3 | pre-uploading: 0 | committing: 0 | waiting: 83\n",
      "---------------------------------------------------\n"
     ]
    },
    {
     "data": {
      "application/vnd.jupyter.widget-view+json": {
       "model_id": "e6c93a3370184a58b259370e05641a10",
       "version_major": 2,
       "version_minor": 0
      },
      "text/plain": [
       "data-00029-of-00040.arrow:   0%|          | 0.00/358M [00:00<?, ?B/s]"
      ]
     },
     "metadata": {},
     "output_type": "display_data"
    },
    {
     "data": {
      "application/vnd.jupyter.widget-view+json": {
       "model_id": "bd6e85f12c0f49008a70f7c7c6c3b26d",
       "version_major": 2,
       "version_minor": 0
      },
      "text/plain": [
       "data-00027-of-00040.arrow:   0%|          | 0.00/369M [00:00<?, ?B/s]"
      ]
     },
     "metadata": {},
     "output_type": "display_data"
    },
    {
     "data": {
      "application/vnd.jupyter.widget-view+json": {
       "model_id": "ff8de105285b49de80e808932bfec638",
       "version_major": 2,
       "version_minor": 0
      },
      "text/plain": [
       "data-00022-of-00040.arrow:   0%|          | 0.00/380M [00:00<?, ?B/s]"
      ]
     },
     "metadata": {},
     "output_type": "display_data"
    },
    {
     "data": {
      "application/vnd.jupyter.widget-view+json": {
       "model_id": "38e6854472d84f3cbe81e93bd670a645",
       "version_major": 2,
       "version_minor": 0
      },
      "text/plain": [
       "data-00025-of-00040.arrow:   0%|          | 0.00/367M [00:00<?, ?B/s]"
      ]
     },
     "metadata": {},
     "output_type": "display_data"
    },
    {
     "data": {
      "application/vnd.jupyter.widget-view+json": {
       "model_id": "b0dd9586c09f41a4beca4f0413f0de08",
       "version_major": 2,
       "version_minor": 0
      },
      "text/plain": [
       "data-00028-of-00040.arrow:   0%|          | 0.00/375M [00:00<?, ?B/s]"
      ]
     },
     "metadata": {},
     "output_type": "display_data"
    },
    {
     "data": {
      "application/vnd.jupyter.widget-view+json": {
       "model_id": "c3fa521604ea436284ab4c1fbed5f31f",
       "version_major": 2,
       "version_minor": 0
      },
      "text/plain": [
       "data-00023-of-00040.arrow:   0%|          | 0.00/391M [00:00<?, ?B/s]"
      ]
     },
     "metadata": {},
     "output_type": "display_data"
    },
    {
     "data": {
      "application/vnd.jupyter.widget-view+json": {
       "model_id": "078f034995c4452f9d3db552c2b3ac3d",
       "version_major": 2,
       "version_minor": 0
      },
      "text/plain": [
       "data-00031-of-00040.arrow:   0%|          | 0.00/385M [00:00<?, ?B/s]"
      ]
     },
     "metadata": {},
     "output_type": "display_data"
    },
    {
     "data": {
      "application/vnd.jupyter.widget-view+json": {
       "model_id": "85a87d1f226842d18abe449c9c25c7c6",
       "version_major": 2,
       "version_minor": 0
      },
      "text/plain": [
       "data-00017-of-00040.arrow:   0%|          | 0.00/405M [00:00<?, ?B/s]"
      ]
     },
     "metadata": {},
     "output_type": "display_data"
    },
    {
     "data": {
      "application/vnd.jupyter.widget-view+json": {
       "model_id": "03f8c6cc224d48388d22ce75fd09bacc",
       "version_major": 2,
       "version_minor": 0
      },
      "text/plain": [
       "data-00002-of-00040.arrow:   0%|          | 0.00/561M [00:00<?, ?B/s]"
      ]
     },
     "metadata": {},
     "output_type": "display_data"
    },
    {
     "data": {
      "application/vnd.jupyter.widget-view+json": {
       "model_id": "e18e9a9c2a814208a3cfc44ffdd1fca5",
       "version_major": 2,
       "version_minor": 0
      },
      "text/plain": [
       "data-00010-of-00040.arrow:   0%|          | 0.00/415M [00:00<?, ?B/s]"
      ]
     },
     "metadata": {},
     "output_type": "display_data"
    },
    {
     "data": {
      "application/vnd.jupyter.widget-view+json": {
       "model_id": "5ea41250a30549c891ab06c2d7b789d4",
       "version_major": 2,
       "version_minor": 0
      },
      "text/plain": [
       "data-00019-of-00040.arrow:   0%|          | 0.00/384M [00:00<?, ?B/s]"
      ]
     },
     "metadata": {},
     "output_type": "display_data"
    },
    {
     "data": {
      "application/vnd.jupyter.widget-view+json": {
       "model_id": "94245147d8464c5a980f8704f55c309c",
       "version_major": 2,
       "version_minor": 0
      },
      "text/plain": [
       "data-00026-of-00040.arrow:   0%|          | 0.00/374M [00:00<?, ?B/s]"
      ]
     },
     "metadata": {},
     "output_type": "display_data"
    },
    {
     "data": {
      "application/vnd.jupyter.widget-view+json": {
       "model_id": "22b4f27b7bcb48ce992e489a64e3049a",
       "version_major": 2,
       "version_minor": 0
      },
      "text/plain": [
       "data-00014-of-00040.arrow:   0%|          | 0.00/396M [00:00<?, ?B/s]"
      ]
     },
     "metadata": {},
     "output_type": "display_data"
    },
    {
     "data": {
      "application/vnd.jupyter.widget-view+json": {
       "model_id": "79f5a730326c4e568db61791c20d1797",
       "version_major": 2,
       "version_minor": 0
      },
      "text/plain": [
       "data-00024-of-00040.arrow:   0%|          | 0.00/389M [00:00<?, ?B/s]"
      ]
     },
     "metadata": {},
     "output_type": "display_data"
    },
    {
     "data": {
      "application/vnd.jupyter.widget-view+json": {
       "model_id": "676325dd99394dfc9f3fbd73e33c5b44",
       "version_major": 2,
       "version_minor": 0
      },
      "text/plain": [
       "data-00011-of-00040.arrow:   0%|          | 0.00/421M [00:00<?, ?B/s]"
      ]
     },
     "metadata": {},
     "output_type": "display_data"
    },
    {
     "data": {
      "application/vnd.jupyter.widget-view+json": {
       "model_id": "5ff4fca26d1a4962b8c2fe5a6d8cca42",
       "version_major": 2,
       "version_minor": 0
      },
      "text/plain": [
       "data-00033-of-00040.arrow:   0%|          | 0.00/386M [00:00<?, ?B/s]"
      ]
     },
     "metadata": {},
     "output_type": "display_data"
    },
    {
     "data": {
      "application/vnd.jupyter.widget-view+json": {
       "model_id": "4c71f3f653604f688127a8bdeb511fc9",
       "version_major": 2,
       "version_minor": 0
      },
      "text/plain": [
       "data-00007-of-00040.arrow:   0%|          | 0.00/445M [00:00<?, ?B/s]"
      ]
     },
     "metadata": {},
     "output_type": "display_data"
    },
    {
     "data": {
      "application/vnd.jupyter.widget-view+json": {
       "model_id": "c1fac5d6b57a4395b277bd3ba243ebb0",
       "version_major": 2,
       "version_minor": 0
      },
      "text/plain": [
       "data-00008-of-00040.arrow:   0%|          | 0.00/433M [00:00<?, ?B/s]"
      ]
     },
     "metadata": {},
     "output_type": "display_data"
    },
    {
     "data": {
      "application/vnd.jupyter.widget-view+json": {
       "model_id": "2b6b89a0c87c4004a0c83746bd7229e6",
       "version_major": 2,
       "version_minor": 0
      },
      "text/plain": [
       "data-00009-of-00040.arrow:   0%|          | 0.00/451M [00:00<?, ?B/s]"
      ]
     },
     "metadata": {},
     "output_type": "display_data"
    },
    {
     "data": {
      "application/vnd.jupyter.widget-view+json": {
       "model_id": "9c1c2f8bf0224b7fac8d975252c0023c",
       "version_major": 2,
       "version_minor": 0
      },
      "text/plain": [
       "data-00013-of-00040.arrow:   0%|          | 0.00/423M [00:00<?, ?B/s]"
      ]
     },
     "metadata": {},
     "output_type": "display_data"
    },
    {
     "data": {
      "application/vnd.jupyter.widget-view+json": {
       "model_id": "d6f12fdfebe14faca34e56010e46bce3",
       "version_major": 2,
       "version_minor": 0
      },
      "text/plain": [
       "data-00021-of-00040.arrow:   0%|          | 0.00/366M [00:00<?, ?B/s]"
      ]
     },
     "metadata": {},
     "output_type": "display_data"
    },
    {
     "data": {
      "application/vnd.jupyter.widget-view+json": {
       "model_id": "cf59988a64ef4398a2eb1561d3b02d4b",
       "version_major": 2,
       "version_minor": 0
      },
      "text/plain": [
       "data-00034-of-00040.arrow:   0%|          | 0.00/394M [00:00<?, ?B/s]"
      ]
     },
     "metadata": {},
     "output_type": "display_data"
    },
    {
     "data": {
      "application/vnd.jupyter.widget-view+json": {
       "model_id": "22bf6e38523f420593c18041adba3046",
       "version_major": 2,
       "version_minor": 0
      },
      "text/plain": [
       "data-00018-of-00040.arrow:   0%|          | 0.00/363M [00:00<?, ?B/s]"
      ]
     },
     "metadata": {},
     "output_type": "display_data"
    },
    {
     "data": {
      "application/vnd.jupyter.widget-view+json": {
       "model_id": "9ac8225b62fb40249d99cc3bce76978c",
       "version_major": 2,
       "version_minor": 0
      },
      "text/plain": [
       "data-00000-of-00040.arrow:   0%|          | 0.00/716M [00:00<?, ?B/s]"
      ]
     },
     "metadata": {},
     "output_type": "display_data"
    },
    {
     "data": {
      "application/vnd.jupyter.widget-view+json": {
       "model_id": "e05a420d4d4c48418f2147a07baf3a8e",
       "version_major": 2,
       "version_minor": 0
      },
      "text/plain": [
       "data-00036-of-00040.arrow:   0%|          | 0.00/1.15G [00:00<?, ?B/s]"
      ]
     },
     "metadata": {},
     "output_type": "display_data"
    },
    {
     "data": {
      "application/vnd.jupyter.widget-view+json": {
       "model_id": "db3f965fdff742338851f2d589115dd2",
       "version_major": 2,
       "version_minor": 0
      },
      "text/plain": [
       "data-00005-of-00040.arrow:   0%|          | 0.00/438M [00:00<?, ?B/s]"
      ]
     },
     "metadata": {},
     "output_type": "display_data"
    },
    {
     "data": {
      "application/vnd.jupyter.widget-view+json": {
       "model_id": "28dcff35e6cf4543b0205fddbc965193",
       "version_major": 2,
       "version_minor": 0
      },
      "text/plain": [
       "data-00039-of-00040.arrow:   0%|          | 0.00/719M [00:00<?, ?B/s]"
      ]
     },
     "metadata": {},
     "output_type": "display_data"
    },
    {
     "data": {
      "application/vnd.jupyter.widget-view+json": {
       "model_id": "80545ee639b04f1a949490f65a2c22e7",
       "version_major": 2,
       "version_minor": 0
      },
      "text/plain": [
       "data-00016-of-00040.arrow:   0%|          | 0.00/488M [00:00<?, ?B/s]"
      ]
     },
     "metadata": {},
     "output_type": "display_data"
    },
    {
     "data": {
      "application/vnd.jupyter.widget-view+json": {
       "model_id": "7204bb5e8ef149cd8f0ca044342acd04",
       "version_major": 2,
       "version_minor": 0
      },
      "text/plain": [
       "data-00004-of-00040.arrow:   0%|          | 0.00/530M [00:00<?, ?B/s]"
      ]
     },
     "metadata": {},
     "output_type": "display_data"
    },
    {
     "data": {
      "application/vnd.jupyter.widget-view+json": {
       "model_id": "cb43a3a0a336485bad9d0ee88a51de3e",
       "version_major": 2,
       "version_minor": 0
      },
      "text/plain": [
       "data-00006-of-00040.arrow:   0%|          | 0.00/470M [00:00<?, ?B/s]"
      ]
     },
     "metadata": {},
     "output_type": "display_data"
    },
    {
     "data": {
      "application/vnd.jupyter.widget-view+json": {
       "model_id": "d2ed78ca47aa4567931c5ebe5134ff61",
       "version_major": 2,
       "version_minor": 0
      },
      "text/plain": [
       "data-00012-of-00040.arrow:   0%|          | 0.00/436M [00:00<?, ?B/s]"
      ]
     },
     "metadata": {},
     "output_type": "display_data"
    },
    {
     "data": {
      "application/vnd.jupyter.widget-view+json": {
       "model_id": "e4989cbbffa14fc788f524dc6b2bcf34",
       "version_major": 2,
       "version_minor": 0
      },
      "text/plain": [
       "data-00001-of-00040.arrow:   0%|          | 0.00/599M [00:00<?, ?B/s]"
      ]
     },
     "metadata": {},
     "output_type": "display_data"
    },
    {
     "data": {
      "application/vnd.jupyter.widget-view+json": {
       "model_id": "326cec6c37fd4f2089d5a685cf86db0e",
       "version_major": 2,
       "version_minor": 0
      },
      "text/plain": [
       "data-00038-of-00040.arrow:   0%|          | 0.00/789M [00:00<?, ?B/s]"
      ]
     },
     "metadata": {},
     "output_type": "display_data"
    },
    {
     "data": {
      "application/vnd.jupyter.widget-view+json": {
       "model_id": "027030539b59473a91bf1e5295adeee1",
       "version_major": 2,
       "version_minor": 0
      },
      "text/plain": [
       "data-00030-of-00040.arrow:   0%|          | 0.00/386M [00:00<?, ?B/s]"
      ]
     },
     "metadata": {},
     "output_type": "display_data"
    },
    {
     "data": {
      "application/vnd.jupyter.widget-view+json": {
       "model_id": "8e5d2dd4107a4c16871b4a4dcaebac39",
       "version_major": 2,
       "version_minor": 0
      },
      "text/plain": [
       "data-00032-of-00040.arrow:   0%|          | 0.00/363M [00:00<?, ?B/s]"
      ]
     },
     "metadata": {},
     "output_type": "display_data"
    },
    {
     "data": {
      "application/vnd.jupyter.widget-view+json": {
       "model_id": "72c24d0304fc42218bef8da8c7608865",
       "version_major": 2,
       "version_minor": 0
      },
      "text/plain": [
       "data-00035-of-00040.arrow:   0%|          | 0.00/1.06G [00:00<?, ?B/s]"
      ]
     },
     "metadata": {},
     "output_type": "display_data"
    },
    {
     "data": {
      "application/vnd.jupyter.widget-view+json": {
       "model_id": "e59b0c5c2e2543f19ffd4c38af622df0",
       "version_major": 2,
       "version_minor": 0
      },
      "text/plain": [
       "data-00020-of-00040.arrow:   0%|          | 0.00/408M [00:00<?, ?B/s]"
      ]
     },
     "metadata": {},
     "output_type": "display_data"
    },
    {
     "data": {
      "application/vnd.jupyter.widget-view+json": {
       "model_id": "97029763cd1240d0b258ae12bc83048b",
       "version_major": 2,
       "version_minor": 0
      },
      "text/plain": [
       "data-00015-of-00040.arrow:   0%|          | 0.00/854M [00:00<?, ?B/s]"
      ]
     },
     "metadata": {},
     "output_type": "display_data"
    },
    {
     "data": {
      "application/vnd.jupyter.widget-view+json": {
       "model_id": "4485345e2ffa4fafb72c327ee27d86ea",
       "version_major": 2,
       "version_minor": 0
      },
      "text/plain": [
       "data-00003-of-00040.arrow:   0%|          | 0.00/565M [00:00<?, ?B/s]"
      ]
     },
     "metadata": {},
     "output_type": "display_data"
    },
    {
     "data": {
      "application/vnd.jupyter.widget-view+json": {
       "model_id": "06a9a227c9e24067a161858db41bd706",
       "version_major": 2,
       "version_minor": 0
      },
      "text/plain": [
       "data-00037-of-00040.arrow:   0%|          | 0.00/914M [00:00<?, ?B/s]"
      ]
     },
     "metadata": {},
     "output_type": "display_data"
    },
    {
     "name": "stdout",
     "output_type": "stream",
     "text": [
      "\u001b[K\u001b[F\n",
      "---------- 2025-02-23 16:42:57 (0:01:00) ----------\n",
      "Files:   hashed 43/43 (20.1G/20.1G) | pre-uploaded: 0/40 (0.0/20.1G) | committed: 0/43 (0.0/20.1G) | ignored: 0\n",
      "Workers: hashing: 0 | get upload mode: 0 | pre-uploading: 40 | committing: 0 | waiting: 86\n",
      "---------------------------------------------------\n",
      "\u001b[K\u001b[F                       \n",
      "---------- 2025-02-23 16:43:57 (0:02:00) ----------\n",
      "Files:   hashed 43/43 (20.1G/20.1G) | pre-uploaded: 0/40 (0.0/20.1G) | committed: 0/43 (0.0/20.1G) | ignored: 0\n",
      "Workers: hashing: 0 | get upload mode: 0 | pre-uploading: 40 | committing: 0 | waiting: 86\n",
      "---------------------------------------------------\n",
      "\u001b[K\u001b[F                       \n",
      "---------- 2025-02-23 16:44:57 (0:03:00) ----------\n",
      "Files:   hashed 43/43 (20.1G/20.1G) | pre-uploaded: 0/40 (0.0/20.1G) | committed: 0/43 (0.0/20.1G) | ignored: 0\n",
      "Workers: hashing: 0 | get upload mode: 0 | pre-uploading: 40 | committing: 0 | waiting: 86\n",
      "---------------------------------------------------\n",
      "\u001b[K\u001b[F                       \n",
      "---------- 2025-02-23 16:45:57 (0:04:00) ----------\n",
      "Files:   hashed 43/43 (20.1G/20.1G) | pre-uploaded: 0/40 (0.0/20.1G) | committed: 0/43 (0.0/20.1G) | ignored: 0\n",
      "Workers: hashing: 0 | get upload mode: 0 | pre-uploading: 40 | committing: 0 | waiting: 86\n",
      "---------------------------------------------------\n",
      "\u001b[K\u001b[F                       \n",
      "---------- 2025-02-23 16:46:57 (0:05:00) ----------\n",
      "Files:   hashed 43/43 (20.1G/20.1G) | pre-uploaded: 0/40 (0.0/20.1G) | committed: 0/43 (0.0/20.1G) | ignored: 0\n",
      "Workers: hashing: 0 | get upload mode: 0 | pre-uploading: 40 | committing: 0 | waiting: 86\n",
      "---------------------------------------------------\n",
      "\u001b[K\u001b[F                       \n",
      "---------- 2025-02-23 16:47:57 (0:06:00) ----------\n",
      "Files:   hashed 43/43 (20.1G/20.1G) | pre-uploaded: 0/40 (0.0/20.1G) | committed: 0/43 (0.0/20.1G) | ignored: 0\n",
      "Workers: hashing: 0 | get upload mode: 0 | pre-uploading: 40 | committing: 0 | waiting: 86\n",
      "---------------------------------------------------\n",
      "\u001b[K\u001b[F                       \n",
      "---------- 2025-02-23 16:48:57 (0:07:00) ----------\n",
      "Files:   hashed 43/43 (20.1G/20.1G) | pre-uploaded: 0/40 (0.0/20.1G) | committed: 0/43 (0.0/20.1G) | ignored: 0\n",
      "Workers: hashing: 0 | get upload mode: 0 | pre-uploading: 40 | committing: 0 | waiting: 86\n",
      "---------------------------------------------------\n",
      "\u001b[K\u001b[F                       \n",
      "---------- 2025-02-23 16:49:57 (0:08:00) ----------\n",
      "Files:   hashed 43/43 (20.1G/20.1G) | pre-uploaded: 0/40 (0.0/20.1G) | committed: 0/43 (0.0/20.1G) | ignored: 0\n",
      "Workers: hashing: 0 | get upload mode: 0 | pre-uploading: 40 | committing: 0 | waiting: 86\n",
      "---------------------------------------------------\n",
      "\u001b[K\u001b[F                       \n",
      "---------- 2025-02-23 16:50:57 (0:09:00) ----------\n",
      "Files:   hashed 43/43 (20.1G/20.1G) | pre-uploaded: 0/40 (0.0/20.1G) | committed: 0/43 (0.0/20.1G) | ignored: 0\n",
      "Workers: hashing: 0 | get upload mode: 0 | pre-uploading: 40 | committing: 0 | waiting: 86\n",
      "---------------------------------------------------\n",
      "\u001b[K\u001b[F                       \n",
      "---------- 2025-02-23 16:51:57 (0:10:00) ----------\n",
      "Files:   hashed 43/43 (20.1G/20.1G) | pre-uploaded: 2/40 (746.5M/20.1G) | committed: 0/43 (0.0/20.1G) | ignored: 0\n",
      "Workers: hashing: 0 | get upload mode: 0 | pre-uploading: 38 | committing: 0 | waiting: 88\n",
      "---------------------------------------------------\n",
      "\u001b[K\u001b[F                       \n",
      "---------- 2025-02-23 16:52:57 (0:11:00) ----------\n",
      "Files:   hashed 43/43 (20.1G/20.1G) | pre-uploaded: 15/40 (5.7G/20.1G) | committed: 0/43 (0.0/20.1G) | ignored: 0\n",
      "Workers: hashing: 0 | get upload mode: 0 | pre-uploading: 25 | committing: 0 | waiting: 101\n",
      "---------------------------------------------------\n",
      "\u001b[K\u001b[F                       \n",
      "---------- 2025-02-23 16:53:57 (0:12:00) ----------\n",
      "Files:   hashed 43/43 (20.1G/20.1G) | pre-uploaded: 27/40 (10.7G/20.1G) | committed: 0/43 (0.0/20.1G) | ignored: 0\n",
      "Workers: hashing: 0 | get upload mode: 0 | pre-uploading: 13 | committing: 0 | waiting: 113\n",
      "---------------------------------------------------\n",
      "\u001b[K\u001b[F                       \n",
      "---------- 2025-02-23 16:54:57 (0:13:00) ----------\n",
      "Files:   hashed 43/43 (20.1G/20.1G) | pre-uploaded: 33/40 (13.9G/20.1G) | committed: 0/43 (0.0/20.1G) | ignored: 0\n",
      "Workers: hashing: 0 | get upload mode: 0 | pre-uploading: 7 | committing: 0 | waiting: 119\n",
      "---------------------------------------------------\n",
      "\u001b[K\u001b[F                       \n",
      "---------- 2025-02-23 16:55:57 (0:14:00) ----------\n",
      "Files:   hashed 43/43 (20.1G/20.1G) | pre-uploaded: 36/40 (16.3G/20.1G) | committed: 0/43 (0.0/20.1G) | ignored: 0\n",
      "Workers: hashing: 0 | get upload mode: 0 | pre-uploading: 4 | committing: 0 | waiting: 122\n",
      "---------------------------------------------------\n",
      "                             "
     ]
    }
   ],
   "source": [
    "api.upload_large_folder(\n",
    "    repo_id = \"wikipedia-en-deduped-minhash\",\n",
    "    repo_type = \"dataset\",\n",
    "    folder_path = \"wikipedia_deduped\",\n",
    ")"
   ]
  },
  {
   "cell_type": "code",
   "execution_count": null,
   "metadata": {},
   "outputs": [],
   "source": []
  }
 ],
 "metadata": {
  "kaggle": {
   "accelerator": "none",
   "dataSources": [
    {
     "datasetId": 6722833,
     "sourceId": 10826612,
     "sourceType": "datasetVersion"
    }
   ],
   "dockerImageVersionId": 30918,
   "isGpuEnabled": false,
   "isInternetEnabled": true,
   "language": "python",
   "sourceType": "notebook"
  },
  "kernelspec": {
   "display_name": "Python 3 (ipykernel)",
   "language": "python",
   "name": "python3"
  },
  "language_info": {
   "codemirror_mode": {
    "name": "ipython",
    "version": 3
   },
   "file_extension": ".py",
   "mimetype": "text/x-python",
   "name": "python",
   "nbconvert_exporter": "python",
   "pygments_lexer": "ipython3",
   "version": "3.12.3"
  }
 },
 "nbformat": 4,
 "nbformat_minor": 4
}
